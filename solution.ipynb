{
 "cells": [
  {
   "cell_type": "code",
   "execution_count": 1,
   "id": "4b4976df",
   "metadata": {},
   "outputs": [],
   "source": [
    "import pandas as pd\n",
    "from sklearn.feature_extraction.text import CountVectorizer, TfidfTransformer\n",
    "from sklearn.model_selection import train_test_split, GridSearchCV\n",
    "from sklearn.naive_bayes import MultinomialNB\n",
    "from sklearn.tree import DecisionTreeClassifier\n",
    "from sklearn.neural_network import MLPClassifier\n",
    "from sklearn.metrics import confusion_matrix, classification_report\n",
    "import warnings\n",
    "warnings.filterwarnings('ignore')"
   ]
  },
  {
   "cell_type": "code",
   "execution_count": 2,
   "id": "71430963",
   "metadata": {},
   "outputs": [],
   "source": [
    "df = pd.read_json('goemotions.json')\n",
    "df.columns = ['post', 'emotion', 'sentiment']"
   ]
  },
  {
   "cell_type": "code",
   "execution_count": 3,
   "id": "b4205e47",
   "metadata": {},
   "outputs": [
    {
     "data": {
      "text/html": [
       "<div>\n",
       "<style scoped>\n",
       "    .dataframe tbody tr th:only-of-type {\n",
       "        vertical-align: middle;\n",
       "    }\n",
       "\n",
       "    .dataframe tbody tr th {\n",
       "        vertical-align: top;\n",
       "    }\n",
       "\n",
       "    .dataframe thead th {\n",
       "        text-align: right;\n",
       "    }\n",
       "</style>\n",
       "<table border=\"1\" class=\"dataframe\">\n",
       "  <thead>\n",
       "    <tr style=\"text-align: right;\">\n",
       "      <th></th>\n",
       "      <th>post</th>\n",
       "      <th>emotion</th>\n",
       "      <th>sentiment</th>\n",
       "    </tr>\n",
       "  </thead>\n",
       "  <tbody>\n",
       "    <tr>\n",
       "      <th>0</th>\n",
       "      <td>That game hurt.</td>\n",
       "      <td>sadness</td>\n",
       "      <td>negative</td>\n",
       "    </tr>\n",
       "    <tr>\n",
       "      <th>1</th>\n",
       "      <td>You do right, if you don't care then fuck 'em!</td>\n",
       "      <td>neutral</td>\n",
       "      <td>neutral</td>\n",
       "    </tr>\n",
       "    <tr>\n",
       "      <th>2</th>\n",
       "      <td>Man I love reddit.</td>\n",
       "      <td>love</td>\n",
       "      <td>positive</td>\n",
       "    </tr>\n",
       "    <tr>\n",
       "      <th>3</th>\n",
       "      <td>[NAME] was nowhere near them, he was by the Fa...</td>\n",
       "      <td>neutral</td>\n",
       "      <td>neutral</td>\n",
       "    </tr>\n",
       "    <tr>\n",
       "      <th>4</th>\n",
       "      <td>Right? Considering it’s such an important docu...</td>\n",
       "      <td>gratitude</td>\n",
       "      <td>positive</td>\n",
       "    </tr>\n",
       "  </tbody>\n",
       "</table>\n",
       "</div>"
      ],
      "text/plain": [
       "                                                post    emotion sentiment\n",
       "0                                    That game hurt.    sadness  negative\n",
       "1     You do right, if you don't care then fuck 'em!    neutral   neutral\n",
       "2                                 Man I love reddit.       love  positive\n",
       "3  [NAME] was nowhere near them, he was by the Fa...    neutral   neutral\n",
       "4  Right? Considering it’s such an important docu...  gratitude  positive"
      ]
     },
     "execution_count": 3,
     "metadata": {},
     "output_type": "execute_result"
    }
   ],
   "source": [
    "df.head()"
   ]
  },
  {
   "cell_type": "markdown",
   "id": "3f3f56a3",
   "metadata": {},
   "source": [
    "### 2.1. Process the dataset using feature_extraction.text.CountVectorizer to extract tokens/words and their frequencies."
   ]
  },
  {
   "cell_type": "code",
   "execution_count": 4,
   "id": "11ed1115",
   "metadata": {},
   "outputs": [],
   "source": [
    "vectorizer = CountVectorizer()\n",
    "X = vectorizer.fit_transform(df.post)"
   ]
  },
  {
   "cell_type": "code",
   "execution_count": 5,
   "id": "d3cd38ab",
   "metadata": {},
   "outputs": [
    {
     "name": "stdout",
     "output_type": "stream",
     "text": [
      "The number of tokens: 30449\n"
     ]
    }
   ],
   "source": [
    "print(f'The number of tokens: {X.shape[1]}')"
   ]
  },
  {
   "cell_type": "markdown",
   "id": "91679193",
   "metadata": {},
   "source": [
    "### 2.2. Split the dataset into 80% for training and 20% for testing. "
   ]
  },
  {
   "cell_type": "code",
   "execution_count": null,
   "id": "6a83f6e2",
   "metadata": {},
   "outputs": [],
   "source": [
    "X_train, X_test, y_train, y_test = train_test_split(X, df[['emotion', 'sentiment']], test_size=0.2)"
   ]
  },
  {
   "cell_type": "markdown",
   "id": "3c41e34b",
   "metadata": {},
   "source": [
    "### 2.3. Train and test the following classifiers, for both the emotion and the sentiment classification, using word frequency as features."
   ]
  },
  {
   "cell_type": "code",
   "execution_count": null,
   "id": "e47026b9",
   "metadata": {},
   "outputs": [],
   "source": [
    "performance_data = []\n",
    "def train_model(model, model_name):\n",
    "    for label in ['emotion', 'sentiment']:\n",
    "        model.fit(X_train, y_train[label])\n",
    "        y_pred = model.predict(X_test)\n",
    "        performance_data.append([f'{model_name} {label}', confusion_matrix(y_test[label], y_pred), classification_report(y_test[label], y_pred)])"
   ]
  },
  {
   "cell_type": "code",
   "execution_count": null,
   "id": "a5e7e7ac",
   "metadata": {},
   "outputs": [],
   "source": [
    "def grid_search(model, model_name, params):\n",
    "    clf = GridSearchCV(model, params, cv=2, n_jobs=-1)\n",
    "    for label in ['emotion', 'sentiment']:\n",
    "        clf.fit(X_train, y_train[label])\n",
    "        param_str = ''\n",
    "        for k, v in clf.best_params_.items():\n",
    "            param_str += f'{k}_{v} '\n",
    "        y_pred = clf.best_estimator_.predict(X_test)\n",
    "        performance_data.append([f'{model_name} {param_str[:-1]} {label}', confusion_matrix(y_test[label], y_pred), classification_report(y_test[label], y_pred)])"
   ]
  },
  {
   "cell_type": "markdown",
   "id": "ad97073e",
   "metadata": {},
   "source": [
    "#### 2.3.1. Base-MNB: a Multinomial Naive Bayes Classifier (naive bayes.MultinomialNB.html) with the default parameters."
   ]
  },
  {
   "cell_type": "code",
   "execution_count": null,
   "id": "d0eaf486",
   "metadata": {},
   "outputs": [],
   "source": [
    "base_mnb = MultinomialNB()\n",
    "train_model(base_mnb, 'MultinomialNB')"
   ]
  },
  {
   "cell_type": "markdown",
   "id": "d8da29d1",
   "metadata": {},
   "source": [
    "#### 2.3.2. Base-DT: a Decision Tree (tree.DecisionTreeClassifier) with the default parameters"
   ]
  },
  {
   "cell_type": "code",
   "execution_count": null,
   "id": "5bd936df",
   "metadata": {},
   "outputs": [],
   "source": [
    "base_dt = DecisionTreeClassifier()\n",
    "train_model(base_dt, 'DecisionTreeClassifier')"
   ]
  },
  {
   "cell_type": "markdown",
   "id": "edb45705",
   "metadata": {},
   "source": [
    "#### 2.3.3. Base-MLP: a Multi-Layered Perceptron (neural network.MLPClassifier) with the default parameters."
   ]
  },
  {
   "cell_type": "code",
   "execution_count": null,
   "id": "312ee84b",
   "metadata": {
    "jupyter": {
     "outputs_hidden": true
    },
    "tags": []
   },
   "outputs": [],
   "source": [
    "base_mlp = MLPClassifier()\n",
    "train_model(base_mlp, 'MLPClassifier')"
   ]
  },
  {
   "cell_type": "markdown",
   "id": "36169a9b",
   "metadata": {},
   "source": [
    "#### 2.3.4. Top-MNB: a better performing Multinomial Naive Bayes Classifier found using GridSearchCV"
   ]
  },
  {
   "cell_type": "code",
   "execution_count": null,
   "id": "58da2ed6",
   "metadata": {},
   "outputs": [],
   "source": [
    "mnb_params = {'alpha': [0.5, 0, 2]}\n",
    "grid_search(base_mnb, 'MultinomialNB', mnb_params)"
   ]
  },
  {
   "cell_type": "markdown",
   "id": "43711fab",
   "metadata": {},
   "source": [
    "#### 2.3.5. Top-DT: a better performing Decision Tree found using GridSearchCV. "
   ]
  },
  {
   "cell_type": "code",
   "execution_count": null,
   "id": "84d3784c",
   "metadata": {},
   "outputs": [],
   "source": [
    "dt_params = {'criterion': ['gini', 'entropy'],\n",
    "             'max_depth': [1, 3],\n",
    "             'min_samples_split': [2, 3, 4]}\n",
    "grid_search(base_dt, 'DecisionTreeClassifier', dt_params)"
   ]
  },
  {
   "cell_type": "markdown",
   "id": "b69b6d2b",
   "metadata": {},
   "source": [
    "#### 2.3.6. Top-MLP: a better performing Multi-Layered Perceptron found using GridSearchCV."
   ]
  },
  {
   "cell_type": "code",
   "execution_count": null,
   "id": "e39c4126",
   "metadata": {},
   "outputs": [],
   "source": [
    "mlp_params = {'activation': ['identity', 'logistic', 'tanh', 'relu'],\n",
    "              'hidden_layer_sizes': [(30, 50), (10, 10, 10)],\n",
    "              'solver': ['adam', 'sgd']}\n",
    "grid_search(base_mlp, 'MLPClassifier', mlp_params)"
   ]
  },
  {
   "cell_type": "markdown",
   "id": "10425d6e",
   "metadata": {},
   "source": [
    "### 2.4. For each of the 6 classifiers above and each of the classification tasks (emotion or sentiment), produce and save the following information in a file called performance."
   ]
  },
  {
   "cell_type": "code",
   "execution_count": null,
   "id": "4549d645",
   "metadata": {},
   "outputs": [],
   "source": [
    "with open('performance.txt', 'w') as f:\n",
    "    for line in performance_data:\n",
    "        line = list(map(str, line))\n",
    "        f.write(f\"{','.join(line)}\\n\")"
   ]
  },
  {
   "cell_type": "markdown",
   "id": "f1a23fb0",
   "metadata": {},
   "source": [
    "### 2.5. Use tf-idf instead of word frequencies and redo all substeps of 2.3 above – you can use TfidfTransformer for this. Display the results of this experiment."
   ]
  },
  {
   "cell_type": "code",
   "execution_count": null,
   "id": "b9f0f5cb",
   "metadata": {},
   "outputs": [],
   "source": [
    "transformer = TfidfTransformer()\n",
    "X_tfidf = transformer.fit_transform(X)\n",
    "X_train, X_test, y_train, y_test = train_test_split(X, df[['emotion', 'sentiment']], test_size=0.2)"
   ]
  },
  {
   "cell_type": "code",
   "execution_count": null,
   "id": "3d704407",
   "metadata": {},
   "outputs": [],
   "source": [
    "performance_data = []\n",
    "base_mnb = MultinomialNB()\n",
    "train_model(base_mnb, 'MultinomialNB')\n",
    "\n",
    "base_dt = DecisionTreeClassifier()\n",
    "train_model(base_dt, 'DecisionTreeClassifier')\n",
    "\n",
    "base_mlp = MLPClassifier()\n",
    "train_model(base_mlp, 'MLPClassifier')\n",
    "\n",
    "grid_search(base_mnb, 'MultinomialNB', mnb_params)\n",
    "\n",
    "grid_search(base_dt, 'DecisionTreeClassifier', dt_params)\n",
    "\n",
    "grid_search(base_mlp, 'MLPClassifier', mlp_params)"
   ]
  },
  {
   "cell_type": "code",
   "execution_count": null,
   "id": "2f925d6e",
   "metadata": {},
   "outputs": [],
   "source": [
    "pd.DataFrame(performance_data, columns=['Model', 'confusion matrix', 'classfication report'])"
   ]
  },
  {
   "cell_type": "code",
   "execution_count": null,
   "id": "74e63353",
   "metadata": {},
   "outputs": [
    {
     "name": "stdout",
     "output_type": "stream",
     "text": [
      "[================----------------------------------] 33.5% 556.8/1662.8MB downloaded"
     ]
    }
   ],
   "source": [
    "from gensim.downloader import load\n",
    "wordvec2model=load('word2vec-google-news-300')\n"
   ]
  },
  {
   "cell_type": "code",
   "execution_count": null,
   "id": "b5a7c37f",
   "metadata": {},
   "outputs": [],
   "source": [
    "from nltk"
   ]
  }
 ],
 "metadata": {
  "kernelspec": {
   "display_name": "Python 3 (ipykernel)",
   "language": "python",
   "name": "python3"
  },
  "language_info": {
   "codemirror_mode": {
    "name": "ipython",
    "version": 3
   },
   "file_extension": ".py",
   "mimetype": "text/x-python",
   "name": "python",
   "nbconvert_exporter": "python",
   "pygments_lexer": "ipython3",
   "version": "3.9.13"
  }
 },
 "nbformat": 4,
 "nbformat_minor": 5
}
