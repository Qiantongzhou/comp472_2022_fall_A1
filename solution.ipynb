{
 "cells": [
  {
   "cell_type": "code",
   "execution_count": 1,
   "id": "7a9c4e17",
   "metadata": {},
   "outputs": [],
   "source": [
    "import pandas as pd\n",
    "from sklearn.feature_extraction.text import CountVectorizer, TfidfTransformer\n",
    "from sklearn.model_selection import train_test_split, GridSearchCV\n",
    "from sklearn.naive_bayes import MultinomialNB\n",
    "from sklearn.tree import DecisionTreeClassifier\n",
    "from sklearn.neural_network import MLPClassifier\n",
    "from sklearn.metrics import confusion_matrix, classification_report\n",
    "import warnings\n",
    "warnings.filterwarnings('ignore')"
   ]
  },
  {
   "cell_type": "code",
   "execution_count": 2,
   "id": "1b78116e",
   "metadata": {},
   "outputs": [],
   "source": [
    "df = pd.read_json('goemotions.json')\n",
    "df.columns = ['post', 'emotion', 'sentiment']"
   ]
  },
  {
   "cell_type": "code",
   "execution_count": 3,
   "id": "b1ba75a9",
   "metadata": {},
   "outputs": [
    {
     "data": {
      "text/html": [
       "<div>\n",
       "<style scoped>\n",
       "    .dataframe tbody tr th:only-of-type {\n",
       "        vertical-align: middle;\n",
       "    }\n",
       "\n",
       "    .dataframe tbody tr th {\n",
       "        vertical-align: top;\n",
       "    }\n",
       "\n",
       "    .dataframe thead th {\n",
       "        text-align: right;\n",
       "    }\n",
       "</style>\n",
       "<table border=\"1\" class=\"dataframe\">\n",
       "  <thead>\n",
       "    <tr style=\"text-align: right;\">\n",
       "      <th></th>\n",
       "      <th>post</th>\n",
       "      <th>emotion</th>\n",
       "      <th>sentiment</th>\n",
       "    </tr>\n",
       "  </thead>\n",
       "  <tbody>\n",
       "    <tr>\n",
       "      <th>0</th>\n",
       "      <td>That game hurt.</td>\n",
       "      <td>sadness</td>\n",
       "      <td>negative</td>\n",
       "    </tr>\n",
       "    <tr>\n",
       "      <th>1</th>\n",
       "      <td>You do right, if you don't care then fuck 'em!</td>\n",
       "      <td>neutral</td>\n",
       "      <td>neutral</td>\n",
       "    </tr>\n",
       "    <tr>\n",
       "      <th>2</th>\n",
       "      <td>Man I love reddit.</td>\n",
       "      <td>love</td>\n",
       "      <td>positive</td>\n",
       "    </tr>\n",
       "    <tr>\n",
       "      <th>3</th>\n",
       "      <td>[NAME] was nowhere near them, he was by the Fa...</td>\n",
       "      <td>neutral</td>\n",
       "      <td>neutral</td>\n",
       "    </tr>\n",
       "    <tr>\n",
       "      <th>4</th>\n",
       "      <td>Right? Considering it’s such an important docu...</td>\n",
       "      <td>gratitude</td>\n",
       "      <td>positive</td>\n",
       "    </tr>\n",
       "  </tbody>\n",
       "</table>\n",
       "</div>"
      ],
      "text/plain": [
       "                                                post    emotion sentiment\n",
       "0                                    That game hurt.    sadness  negative\n",
       "1     You do right, if you don't care then fuck 'em!    neutral   neutral\n",
       "2                                 Man I love reddit.       love  positive\n",
       "3  [NAME] was nowhere near them, he was by the Fa...    neutral   neutral\n",
       "4  Right? Considering it’s such an important docu...  gratitude  positive"
      ]
     },
     "execution_count": 3,
     "metadata": {},
     "output_type": "execute_result"
    }
   ],
   "source": [
    "df.head()"
   ]
  },
  {
   "cell_type": "markdown",
   "id": "53f4a3e6",
   "metadata": {},
   "source": [
    "### 2.1. Process the dataset using feature_extraction.text.CountVectorizer to extract tokens/words and their frequencies."
   ]
  },
  {
   "cell_type": "code",
   "execution_count": 4,
   "id": "f6f44e9d",
   "metadata": {},
   "outputs": [],
   "source": [
    "vectorizer = CountVectorizer()\n",
    "X = vectorizer.fit_transform(df.post)"
   ]
  },
  {
   "cell_type": "code",
   "execution_count": 5,
   "id": "2bde594a",
   "metadata": {},
   "outputs": [
    {
     "name": "stdout",
     "output_type": "stream",
     "text": [
      "30449\n"
     ]
    }
   ],
   "source": [
    "print(X.shape[1])"
   ]
  },
  {
   "cell_type": "markdown",
   "id": "4f8b08af",
   "metadata": {},
   "source": [
    "### 2.2. Split the dataset into 80% for training and 20% for testing. "
   ]
  },
  {
   "cell_type": "code",
   "execution_count": 6,
   "id": "c2be8b3f",
   "metadata": {},
   "outputs": [],
   "source": [
    "X_train, X_test, y_train, y_test = train_test_split(X, df[['emotion', 'sentiment']], test_size=0.2)"
   ]
  },
  {
   "cell_type": "markdown",
   "id": "95061bc1",
   "metadata": {},
   "source": [
    "### 2.3. Train and test the following classifiers, for both the emotion and the sentiment classification, using word frequency as features."
   ]
  },
  {
   "cell_type": "code",
   "execution_count": 7,
   "id": "052afd68",
   "metadata": {},
   "outputs": [],
   "source": [
    "performance_data = []\n",
    "def train_model(model, model_name):\n",
    "    for label in ['emotion', 'sentiment']:\n",
    "        model.fit(X_train, y_train[label])\n",
    "        y_pred = model.predict(X_test)\n",
    "        performance_data.append([\"%s.\"%model_name,\"%s.\"%model, confusion_matrix(y_test[label], y_pred), classification_report(y_test[label], y_pred)])"
   ]
  },
  {
   "cell_type": "code",
   "execution_count": 8,
   "id": "91807c72",
   "metadata": {},
   "outputs": [],
   "source": [
    "def grid_search(model, model_name, params):\n",
    "    clf = GridSearchCV(model, params, cv=2, n_jobs=-1)\n",
    "    for label in ['emotion', 'sentiment']:\n",
    "        clf.fit(X_train, y_train[label])\n",
    "        param_str = ''\n",
    "        for k, v in clf.best_params_.items():\n",
    "            param_str += \"{0}_{1}\".format(k,v)\n",
    "        y_pred = clf.best_estimator_.predict(X_test)\n",
    "        performance_data.append([\"{0}, {1}, {2}\".format(model_name), confusion_matrix(y_test[label], y_pred), classification_report(y_test[label], y_pred)])"
   ]
  },
  {
   "cell_type": "markdown",
   "id": "965de8fe",
   "metadata": {},
   "source": [
    "#### 2.3.1. Base-MNB: a Multinomial Naive Bayes Classifier (naive bayes.MultinomialNB.html) with the default parameters."
   ]
  },
  {
   "cell_type": "code",
   "execution_count": 9,
   "id": "ed1d8f4a",
   "metadata": {},
   "outputs": [],
   "source": [
    "base_mnb = MultinomialNB()\n",
    "train_model(base_mnb, 'MultinomialNB')"
   ]
  },
  {
   "cell_type": "markdown",
   "id": "117ee0c1",
   "metadata": {},
   "source": [
    "#### 2.3.2. Base-DT: a Decision Tree (tree.DecisionTreeClassifier) with the default parameters"
   ]
  },
  {
   "cell_type": "code",
   "execution_count": 10,
   "id": "91e67d67",
   "metadata": {},
   "outputs": [],
   "source": [
    "base_dt = DecisionTreeClassifier()\n",
    "train_model(base_dt, 'DecisionTreeClassifier')"
   ]
  },
  {
   "cell_type": "markdown",
   "id": "a3c19ec5",
   "metadata": {},
   "source": [
    "#### 2.3.3. Base-MLP: a Multi-Layered Perceptron (neural network.MLPClassifier) with the default parameters."
   ]
  },
  {
   "cell_type": "code",
   "execution_count": null,
   "id": "53451478",
   "metadata": {
    "jupyter": {
     "outputs_hidden": true
    },
    "tags": []
   },
   "outputs": [],
   "source": [
    "base_mlp = MLPClassifier()\n",
    "train_model(base_mlp, 'MLPClassifier')"
   ]
  },
  {
   "cell_type": "markdown",
   "id": "afb3e3b3",
   "metadata": {},
   "source": [
    "#### 2.3.4. Top-MNB: a better performing Multinomial Naive Bayes Classifier found using GridSearchCV"
   ]
  },
  {
   "cell_type": "code",
   "execution_count": null,
   "id": "31ca57c4",
   "metadata": {},
   "outputs": [],
   "source": [
    "mnb_params = {'alpha': [0.5, 0, 2]}\n",
    "grid_search(base_mnb, 'MultinomialNB', mnb_params)"
   ]
  },
  {
   "cell_type": "markdown",
   "id": "dae1ae76",
   "metadata": {},
   "source": [
    "#### 2.3.5. Top-DT: a better performing Decision Tree found using GridSearchCV. "
   ]
  },
  {
   "cell_type": "code",
   "execution_count": null,
   "id": "0e5716e4",
   "metadata": {},
   "outputs": [],
   "source": [
    "dt_params = {'criterion': ['gini', 'entropy'],\n",
    "             'max_depth': [1, 3],\n",
    "             'min_samples_split': [2, 3, 4]}\n",
    "grid_search(base_dt, 'DecisionTreeClassifier', dt_params)"
   ]
  },
  {
   "cell_type": "markdown",
   "id": "6978e5a7",
   "metadata": {},
   "source": [
    "#### 2.3.6. Top-MLP: a better performing Multi-Layered Perceptron found using GridSearchCV."
   ]
  },
  {
   "cell_type": "code",
   "execution_count": null,
   "id": "ac295cb9",
   "metadata": {},
   "outputs": [],
   "source": [
    "mlp_params = {'activation': ['identity', 'logistic', 'tanh', 'relu'],\n",
    "              'hidden_layer_sizes': [(30, 50), (10, 10, 10)],\n",
    "              'solver': ['adam', 'sgd']}\n",
    "grid_search(base_mlp, 'MLPClassifier', mlp_params)"
   ]
  },
  {
   "cell_type": "markdown",
   "id": "bea80c3c",
   "metadata": {},
   "source": [
    "### 2.4. For each of the 6 classifiers above and each of the classification tasks (emotion or sentiment), produce and save the following information in a file called performance."
   ]
  },
  {
   "cell_type": "code",
   "execution_count": null,
   "id": "f8e81d9c",
   "metadata": {},
   "outputs": [],
   "source": [
    "with open('performance.txt', 'w') as f:\n",
    "    for line in performance_data:\n",
    "        line = list(map(str, line))\n",
    "        f.write(\",\".join(line))"
   ]
  },
  {
   "cell_type": "markdown",
   "id": "31a1973f",
   "metadata": {},
   "source": [
    "### 2.5. Use tf-idf instead of word frequencies and redo all substeps of 2.3 above – you can use TfidfTransformer for this. Display the results of this experiment."
   ]
  },
  {
   "cell_type": "code",
   "execution_count": null,
   "id": "63538919",
   "metadata": {},
   "outputs": [],
   "source": [
    "transformer = TfidfTransformer()\n",
    "X_tfidf = transformer.fit_transform(X)\n",
    "X_train, X_test, y_train, y_test = train_test_split(X, df[['emotion', 'sentiment']], test_size=0.2)"
   ]
  },
  {
   "cell_type": "code",
   "execution_count": null,
   "id": "dd375163",
   "metadata": {},
   "outputs": [],
   "source": [
    "performance_data = []\n",
    "base_mnb = MultinomialNB()\n",
    "train_model(base_mnb, 'MultinomialNB')\n",
    "\n",
    "base_dt = DecisionTreeClassifier()\n",
    "train_model(base_dt, 'DecisionTreeClassifier')\n",
    "\n",
    "base_mlp = MLPClassifier()\n",
    "train_model(base_mlp, 'MLPClassifier')\n",
    "\n",
    "grid_search(base_mnb, 'MultinomialNB', mnb_params)\n",
    "\n",
    "grid_search(base_dt, 'DecisionTreeClassifier', dt_params)\n",
    "\n",
    "grid_search(base_mlp, 'MLPClassifier', mlp_params)"
   ]
  },
  {
   "cell_type": "code",
   "execution_count": null,
   "id": "c476fb6a",
   "metadata": {},
   "outputs": [],
   "source": [
    "pd.DataFrame(performance_data, columns=['Model', 'confusion matrix', 'classfication report'])"
   ]
  },
  {
   "cell_type": "code",
   "execution_count": null,
   "id": "3860ea3c",
   "metadata": {},
   "outputs": [],
   "source": [
    "\n"
   ]
  },
  {
   "cell_type": "code",
   "execution_count": null,
   "id": "2dfaa5f2",
   "metadata": {},
   "outputs": [],
   "source": [
    "from gensim.downloader import load\n",
    "wordvec2model=load('word2vec-google-news-300')"
   ]
  },
  {
   "cell_type": "code",
   "execution_count": null,
   "id": "0d636b99",
   "metadata": {
    "scrolled": true
   },
   "outputs": [],
   "source": [
    "from nltk.tokenize import word_tokenize\n",
    "import nltk\n",
    "nltk.download('punkt')\n",
    "import pandas as pd\n",
    "file = pd.read_json(open(\"goemotions.json\", \"r\"))\n",
    "words=file[0]\n",
    "tokenizer=[word_tokenize(x) for x in words]"
   ]
  },
  {
   "cell_type": "code",
   "execution_count": null,
   "id": "1270ee4c",
   "metadata": {},
   "outputs": [],
   "source": [
    "list_tokens=[]\n",
    "list_tokens=[k for k in tokenizer for i in k]\n",
    "list_len=len(list_tokens)\n",
    "print(f'There are {list_len} Reddit post tokens in goemotions.json')"
   ]
  },
  {
   "cell_type": "code",
   "execution_count": null,
   "id": "a6ed1253",
   "metadata": {},
   "outputs": [],
   "source": [
    "wordvec2model.vector_size"
   ]
  },
  {
   "cell_type": "code",
   "execution_count": null,
   "id": "cf650a98",
   "metadata": {},
   "outputs": [],
   "source": [
    "vec_go=wordvec2model['go']\n",
    "vec_go[:20]"
   ]
  },
  {
   "cell_type": "code",
   "execution_count": null,
   "id": "9a119f54",
   "metadata": {},
   "outputs": [],
   "source": [
    "redditpositone=list_tokens[1]\n",
    "print(redditpositone)"
   ]
  },
  {
   "cell_type": "code",
   "execution_count": null,
   "id": "eb52cd24",
   "metadata": {},
   "outputs": [],
   "source": []
  },
  {
   "cell_type": "code",
   "execution_count": null,
   "id": "d7716599",
   "metadata": {
    "scrolled": false
   },
   "outputs": [],
   "source": [
    "vecter_list=[wordvec2model[word] for word in redditpositone if word in wordvec2model.index_to_key]\n",
    "\n",
    "word_filtered_list=[word for word in redditpositone if word in wordvec2model.index_to_key]\n",
    "word_vec= zip(word_filtered_list,vecter_list)\n",
    "dict_tokens=dict(word_vec)\n",
    "df=pd.DataFrame.from_dict(dict_tokens,orient='index')\n",
    "df.head(len(dict_tokens))"
   ]
  },
  {
   "cell_type": "code",
   "execution_count": null,
   "id": "33e0fe5b",
   "metadata": {
    "scrolled": true
   },
   "outputs": [],
   "source": [
    "average=[]\n",
    "k=0\n",
    "for x in range(0,wordvec2model.vector_size-1):\n",
    "    for j in range(0,len(dict_tokens)-1):\n",
    "        k+=df[x][j]\n",
    "    average.append(k/len(dict_tokens))\n"
   ]
  },
  {
   "cell_type": "code",
   "execution_count": null,
   "id": "c4c304fe",
   "metadata": {
    "scrolled": false
   },
   "outputs": [],
   "source": [
    "\n",
    "df=pd.DataFrame(average,columns=['average'])\n",
    "\n",
    "df.T.head()\n"
   ]
  },
  {
   "cell_type": "code",
   "execution_count": null,
   "id": "63c3024a",
   "metadata": {},
   "outputs": [],
   "source": []
  },
  {
   "cell_type": "code",
   "execution_count": null,
   "id": "93bbc934",
   "metadata": {},
   "outputs": [],
   "source": []
  },
  {
   "cell_type": "code",
   "execution_count": null,
   "id": "6fb0afb4",
   "metadata": {},
   "outputs": [],
   "source": []
  }
 ],
 "metadata": {
  "kernelspec": {
   "display_name": "Python 3 (ipykernel)",
   "language": "python",
   "name": "python3"
  },
  "language_info": {
   "codemirror_mode": {
    "name": "ipython",
    "version": 3
   },
   "file_extension": ".py",
   "mimetype": "text/x-python",
   "name": "python",
   "nbconvert_exporter": "python",
   "pygments_lexer": "ipython3",
   "version": "3.9.13"
  }
 },
 "nbformat": 4,
 "nbformat_minor": 5
}
